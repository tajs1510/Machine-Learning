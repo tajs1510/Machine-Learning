{
 "cells": [
  {
   "cell_type": "code",
   "execution_count": null,
   "metadata": {},
   "outputs": [],
   "source": [
    "# Gọi hai thuật toán từ các notebook\n",
    "%run decision_tree.ipynb\n",
    "%run randomForest.ipynb\n",
    "\n",
    "# Nhập thư viện\n",
    "import numpy as np\n",
    "import pandas as pd\n",
    "from sklearn.model_selection import train_test_split\n",
    "\n",
    "# Đọc dữ liệu từ file drug200.csv\n",
    "data = pd.read_csv('drug200.csv')\n",
    "print(data.head())\n",
    "\n",
    "# Tạo tập X và y\n",
    "X = data.drop('Drug', axis=1)  # X là dataframe chứa tất cả các đặc trưng\n",
    "y = data['Drug']  # y là series chứa nhãn mục tiêu\n",
    "\n",
    "print(X.head())\n",
    "print(y.head())\n",
    "\n",
    "# Chia dữ liệu thành tập train và test với tỉ lệ test là 0.2\n",
    "X_train, X_test, y_train, y_test = train_test_split(X, y, test_size=0.2, random_state=42)\n",
    "\n",
    "print(X_train.head())\n",
    "print(y_train.head())\n",
    "\n",
    "# Huấn luyện mô hình DecisionTreeClass\n",
    "decisionTree = DecisionTreeClass(min_samples_split=2, max_depth=10)\n",
    "decisionTree.fit(X_train, y_train)\n",
    "\n",
    "# Dự đoán với DecisionTree\n",
    "y_pred = decisionTree.predict(X_test)\n",
    "print(\"Dự đoán Decision Tree:\", y_pred)\n",
    "\n",
    "# In ra nhãn thực tế\n",
    "print(\"Nhãn thực tế:\", y_test.values)\n",
    "\n",
    "# Tính độ chính xác của Decision Tree\n",
    "def accuracy(y_true, y_pred):\n",
    "    return np.mean(y_true == y_pred)\n",
    "\n",
    "print(\"Độ chính xác Decision Tree:\", accuracy(y_test.values, y_pred))\n"
   ]
  },
  {
   "cell_type": "code",
   "execution_count": null,
   "metadata": {},
   "outputs": [],
   "source": [
    "# Tạo và huấn luyện RandomForest với số cây nhỏ hơn và độ sâu giới hạn\n",
    "randomForest = RandomForest(n_trees=2, max_depth=5, n_features=X.shape[1])\n",
    "randomForest.fit(X_train, y_train)\n",
    "\n",
    "# Dự đoán với RandomForest\n",
    "y_pred_rf = randomForest.predict(X_test)\n",
    "\n",
    "# In nhãn dự đoán và thực tế\n",
    "print(\"Dự đoán RandomForest:\", y_pred_rf)\n",
    "print(\"Nhãn thực tế:\", y_test.values)\n",
    "\n",
    "# Tính độ chính xác\n",
    "print(\"Độ chính xác RandomForest:\", accuracy(y_test.values, y_pred_rf))"
   ]
  }
 ],
 "metadata": {
  "language_info": {
   "name": "python"
  }
 },
 "nbformat": 4,
 "nbformat_minor": 2
}
