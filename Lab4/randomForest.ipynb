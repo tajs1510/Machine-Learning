{
 "cells": [
  {
   "cell_type": "code",
   "execution_count": null,
   "metadata": {},
   "outputs": [],
   "source": [
    "%run decision_tree.ipynb\n",
    "\n",
    "import pandas as pd\n",
    "import numpy as np\n",
    "\n",
    "# Hàm lấy các mẫu dữ liệu ngẫu nhiên trong đó các phần tử có thể lặp lại (trùng nhau)\n",
    "def bootstrap(X, y):  # X là DataFrame, y là Series\n",
    "    n_sample = X.shape[0]\n",
    "    _id = np.random.choice(n_sample, n_sample, replace=True)  # Chọn ngẫu nhiên với phép lặp lại\n",
    "    return X.iloc[_id], y.iloc[_id]  # Dùng iloc vì đang chọn index ngẫu nhiên\n",
    "\n",
    "# Lớp RandomForest\n",
    "class RandomForest:\n",
    "    def __init__(self, n_trees=5, max_depth=10, min_samples_split=2, n_features=None):\n",
    "        self.n_trees = n_trees  # Số cây quyết định trong rừng\n",
    "        self.max_depth = max_depth  # Độ sâu tối đa của từng cây\n",
    "        self.min_samples_split = min_samples_split  # Số mẫu tối thiểu để tiếp tục chia node\n",
    "        self.n_features = n_features  # Số lượng đặc trưng sử dụng trong mỗi cây\n",
    "        self.trees = []  # Danh sách để lưu các cây\n",
    "\n",
    "    def fit(self, X, y):  # X là DataFrame, y là Series\n",
    "        self.trees = []  # Tạo danh sách mới chứa các cây\n",
    "        for i in range(self.n_trees):\n",
    "            # Khởi tạo cây quyết định cho mỗi lần lặp\n",
    "            tree = DecisionTreeClass(\n",
    "                min_samples_split=self.min_samples_split, \n",
    "                max_depth=self.max_depth, \n",
    "                n_features=self.n_features\n",
    "            )\n",
    "            X_sample, y_sample = bootstrap(X, y)  # Tạo mẫu bootstrap từ dữ liệu gốc\n",
    "            tree.fit(X_sample, y_sample)  # Huấn luyện cây với mẫu mới\n",
    "            self.trees.append(tree)  # Lưu cây vào danh sách\n",
    "\n",
    "    def predict(self, X):  # Dự đoán cho toàn bộ tập dữ liệu\n",
    "        # Lấy dự đoán từ từng cây trong rừng\n",
    "        arr_pred = np.array([tree.predict(X) for tree in self.trees])  # Kết quả là mảng 2D\n",
    "        final_pred = []\n",
    "        for i in range(arr_pred.shape[1]):  # Duyệt qua từng mẫu dữ liệu\n",
    "            sample_pred = arr_pred[:, i]  # Lấy tất cả dự đoán cho mẫu thứ i\n",
    "            final_pred.append(most_value(pd.Series(sample_pred)))  # Bỏ phiếu đa số\n",
    "        return np.array(final_pred)  # Trả về mảng dự đoán cuối cùng\n"
   ]
  }
 ],
 "metadata": {
  "language_info": {
   "name": "python"
  }
 },
 "nbformat": 4,
 "nbformat_minor": 2
}
